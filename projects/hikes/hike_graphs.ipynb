{
 "cells": [
  {
   "cell_type": "code",
   "execution_count": 25,
   "metadata": {},
   "outputs": [
    {
     "data": {
      "text/html": [
       "<div>\n",
       "<style scoped>\n",
       "    .dataframe tbody tr th:only-of-type {\n",
       "        vertical-align: middle;\n",
       "    }\n",
       "\n",
       "    .dataframe tbody tr th {\n",
       "        vertical-align: top;\n",
       "    }\n",
       "\n",
       "    .dataframe thead th {\n",
       "        text-align: right;\n",
       "    }\n",
       "</style>\n",
       "<table border=\"1\" class=\"dataframe\">\n",
       "  <thead>\n",
       "    <tr style=\"text-align: right;\">\n",
       "      <th></th>\n",
       "      <th>ID</th>\n",
       "      <th>Time</th>\n",
       "      <th>Altimeter</th>\n",
       "      <th>Accuracy</th>\n",
       "      <th>Altitude [m]</th>\n",
       "      <th>Time [hh:mm]</th>\n",
       "      <th>Corrected Altitude [ft]</th>\n",
       "      <th>Elevation Gain [ft]</th>\n",
       "    </tr>\n",
       "  </thead>\n",
       "  <tbody>\n",
       "    <tr>\n",
       "      <th>0</th>\n",
       "      <td>4/11/2018</td>\n",
       "      <td>11:58:29</td>\n",
       "      <td>GPS</td>\n",
       "      <td>Accurate</td>\n",
       "      <td>925.6</td>\n",
       "      <td>00:00:00</td>\n",
       "      <td>3036.7</td>\n",
       "      <td>0.0</td>\n",
       "    </tr>\n",
       "    <tr>\n",
       "      <th>1</th>\n",
       "      <td>4/11/2018</td>\n",
       "      <td>12:05:06</td>\n",
       "      <td>GPS</td>\n",
       "      <td>Accurate</td>\n",
       "      <td>935.4</td>\n",
       "      <td>00:06:37</td>\n",
       "      <td>3068.9</td>\n",
       "      <td>32.2</td>\n",
       "    </tr>\n",
       "    <tr>\n",
       "      <th>2</th>\n",
       "      <td>4/11/2018</td>\n",
       "      <td>12:08:24</td>\n",
       "      <td>GPS</td>\n",
       "      <td>Accurate</td>\n",
       "      <td>952.6</td>\n",
       "      <td>00:09:55</td>\n",
       "      <td>3125.3</td>\n",
       "      <td>88.6</td>\n",
       "    </tr>\n",
       "    <tr>\n",
       "      <th>3</th>\n",
       "      <td>4/11/2018</td>\n",
       "      <td>12:16:45</td>\n",
       "      <td>GPS</td>\n",
       "      <td>Accurate</td>\n",
       "      <td>1006.2</td>\n",
       "      <td>00:18:16</td>\n",
       "      <td>3301.2</td>\n",
       "      <td>264.4</td>\n",
       "    </tr>\n",
       "    <tr>\n",
       "      <th>4</th>\n",
       "      <td>4/11/2018</td>\n",
       "      <td>12:27:05</td>\n",
       "      <td>GPS</td>\n",
       "      <td>Accurate</td>\n",
       "      <td>1056.2</td>\n",
       "      <td>00:28:36</td>\n",
       "      <td>3465.2</td>\n",
       "      <td>428.5</td>\n",
       "    </tr>\n",
       "  </tbody>\n",
       "</table>\n",
       "</div>"
      ],
      "text/plain": [
       "          ID      Time Altimeter  Accuracy  Altitude [m] Time [hh:mm]  \\\n",
       "0  4/11/2018  11:58:29       GPS  Accurate         925.6     00:00:00   \n",
       "1  4/11/2018  12:05:06       GPS  Accurate         935.4     00:06:37   \n",
       "2  4/11/2018  12:08:24       GPS  Accurate         952.6     00:09:55   \n",
       "3  4/11/2018  12:16:45       GPS  Accurate        1006.2     00:18:16   \n",
       "4  4/11/2018  12:27:05       GPS  Accurate        1056.2     00:28:36   \n",
       "\n",
       "   Corrected Altitude [ft]  Elevation Gain [ft]  \n",
       "0                   3036.7                  0.0  \n",
       "1                   3068.9                 32.2  \n",
       "2                   3125.3                 88.6  \n",
       "3                   3301.2                264.4  \n",
       "4                   3465.2                428.5  "
      ]
     },
     "execution_count": 25,
     "metadata": {},
     "output_type": "execute_result"
    }
   ],
   "source": [
    "import plotly\n",
    "import pandas as pd\n",
    "import numpy as np\n",
    "import matplotlib.pyplot as plt\n",
    "\n",
    "%matplotlib inline\n",
    "\n",
    "df = pd.read_csv(\"files/hike_compilation.csv\")\n",
    "df.head()\n"
   ]
  },
  {
   "cell_type": "code",
   "execution_count": 20,
   "metadata": {},
   "outputs": [
    {
     "data": {
      "text/plain": [
       "[<matplotlib.lines.Line2D at 0xd305a58>]"
      ]
     },
     "execution_count": 20,
     "metadata": {},
     "output_type": "execute_result"
    },
    {
     "data": {
      "image/png": "[encoded data removed]",
      "text/plain": [
       "<matplotlib.figure.Figure at 0xc1ca6a0>"
      ]
     },
     "metadata": {},
     "output_type": "display_data"
    }
   ],
   "source": [
    "listEG = df['Elevation Gain [ft]']\n",
    "listTime = df['Time [hh:mm]']\n",
    "plt.plot(listTime, listEG)"
   ]
  },
  {
   "cell_type": "code",
   "execution_count": null,
   "metadata": {
    "collapsed": true
   },
   "outputs": [],
   "source": []
  },
  {
   "cell_type": "code",
   "execution_count": null,
   "metadata": {
    "collapsed": true
   },
   "outputs": [],
   "source": []
  }
 ],
 "metadata": {
  "kernelspec": {
   "display_name": "Python 2",
   "language": "python",
   "name": "python2"
  },
  "language_info": {
   "codemirror_mode": {
    "name": "ipython",
    "version": 2
   },
   "file_extension": ".py",
   "mimetype": "text/x-python",
   "name": "python",
   "nbconvert_exporter": "python",
   "pygments_lexer": "ipython2",
   "version": "2.7.14"
  }
 },
 "nbformat": 4,
 "nbformat_minor": 2
}
